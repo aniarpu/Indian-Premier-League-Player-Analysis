{
 "cells": [
  {
   "cell_type": "markdown",
   "metadata": {
    "collapsed": false,
    "deletable": true,
    "editable": true
   },
   "source": [
    "# INDIAN PREMIER LEAGUE  ANALYSIS"
   ]
  },
  {
   "cell_type": "code",
   "execution_count": 1,
   "metadata": {
    "collapsed": true,
    "deletable": true,
    "editable": true
   },
   "outputs": [],
   "source": [
    "import pandas as pd\n",
    "%matplotlib inline\n",
    "import numpy as np\n",
    "from pylab import pie\n",
    "from __future__ import print_function\n",
    "import matplotlib.pyplot as plt\n",
    "from scipy.stats.stats import pearsonr"
   ]
  },
  {
   "cell_type": "markdown",
   "metadata": {
    "deletable": true,
    "editable": true
   },
   "source": [
    "# 1. Player Analysis"
   ]
  },
  {
   "cell_type": "code",
   "execution_count": 2,
   "metadata": {
    "collapsed": true,
    "deletable": true,
    "editable": true
   },
   "outputs": [],
   "source": [
    "runs=pd.read_csv(\"C:\\Users\\Anirudh Arputham\\Desktop\\my files-iitb\\SEM 2\\AE 102\\Projects\\Player Runs.csv\")"
   ]
  },
  {
   "cell_type": "code",
   "execution_count": 3,
   "metadata": {
    "collapsed": false,
    "deletable": true,
    "editable": true
   },
   "outputs": [
    {
     "name": "stdout",
     "output_type": "stream",
     "text": [
      "RUNS SCORED BY BATSMEN OF THE SAMPLE\n"
     ]
    },
    {
     "data": {
      "text/html": [
       "<div>\n",
       "<table border=\"1\" class=\"dataframe\">\n",
       "  <thead>\n",
       "    <tr style=\"text-align: right;\">\n",
       "      <th></th>\n",
       "      <th>Years</th>\n",
       "      <th>Mahendra Singh Dhoni</th>\n",
       "      <th>Gautam Gambhir</th>\n",
       "      <th>Virender Sehwag</th>\n",
       "      <th>Murali Vijay</th>\n",
       "      <th>Virat Kohli</th>\n",
       "      <th>AB de Villiers</th>\n",
       "      <th>Albie Morkel</th>\n",
       "      <th>Chris Gayle</th>\n",
       "      <th>Yuvraj Singh</th>\n",
       "      <th>Suresh Raina</th>\n",
       "      <th>Rohit Sharma</th>\n",
       "      <th>Yusuf Pathan</th>\n",
       "      <th>Shane Watson</th>\n",
       "      <th>Keiron Pollard</th>\n",
       "      <th>Ravindra Jadeja</th>\n",
       "      <th>Steve Smith</th>\n",
       "    </tr>\n",
       "  </thead>\n",
       "  <tbody>\n",
       "    <tr>\n",
       "      <th>0</th>\n",
       "      <td>2008</td>\n",
       "      <td>414</td>\n",
       "      <td>534</td>\n",
       "      <td>406</td>\n",
       "      <td>0</td>\n",
       "      <td>165</td>\n",
       "      <td>95</td>\n",
       "      <td>241</td>\n",
       "      <td>200</td>\n",
       "      <td>299</td>\n",
       "      <td>421</td>\n",
       "      <td>404</td>\n",
       "      <td>435</td>\n",
       "      <td>472</td>\n",
       "      <td>0</td>\n",
       "      <td>135</td>\n",
       "      <td>0</td>\n",
       "    </tr>\n",
       "    <tr>\n",
       "      <th>1</th>\n",
       "      <td>2009</td>\n",
       "      <td>619</td>\n",
       "      <td>286</td>\n",
       "      <td>554</td>\n",
       "      <td>518</td>\n",
       "      <td>246</td>\n",
       "      <td>465</td>\n",
       "      <td>295</td>\n",
       "      <td>171</td>\n",
       "      <td>340</td>\n",
       "      <td>434</td>\n",
       "      <td>362</td>\n",
       "      <td>243</td>\n",
       "      <td>0</td>\n",
       "      <td>0</td>\n",
       "      <td>295</td>\n",
       "      <td>0</td>\n",
       "    </tr>\n",
       "    <tr>\n",
       "      <th>2</th>\n",
       "      <td>2010</td>\n",
       "      <td>287</td>\n",
       "      <td>277</td>\n",
       "      <td>356</td>\n",
       "      <td>458</td>\n",
       "      <td>307</td>\n",
       "      <td>111</td>\n",
       "      <td>198</td>\n",
       "      <td>292</td>\n",
       "      <td>255</td>\n",
       "      <td>520</td>\n",
       "      <td>404</td>\n",
       "      <td>333</td>\n",
       "      <td>185</td>\n",
       "      <td>273</td>\n",
       "      <td>0</td>\n",
       "      <td>0</td>\n",
       "    </tr>\n",
       "    <tr>\n",
       "      <th>3</th>\n",
       "      <td>2011</td>\n",
       "      <td>392</td>\n",
       "      <td>378</td>\n",
       "      <td>424</td>\n",
       "      <td>434</td>\n",
       "      <td>557</td>\n",
       "      <td>312</td>\n",
       "      <td>138</td>\n",
       "      <td>608</td>\n",
       "      <td>343</td>\n",
       "      <td>438</td>\n",
       "      <td>372</td>\n",
       "      <td>283</td>\n",
       "      <td>330</td>\n",
       "      <td>146</td>\n",
       "      <td>283</td>\n",
       "      <td>0</td>\n",
       "    </tr>\n",
       "    <tr>\n",
       "      <th>4</th>\n",
       "      <td>2012</td>\n",
       "      <td>358</td>\n",
       "      <td>590</td>\n",
       "      <td>495</td>\n",
       "      <td>336</td>\n",
       "      <td>364</td>\n",
       "      <td>319</td>\n",
       "      <td>107</td>\n",
       "      <td>733</td>\n",
       "      <td>0</td>\n",
       "      <td>441</td>\n",
       "      <td>433</td>\n",
       "      <td>194</td>\n",
       "      <td>255</td>\n",
       "      <td>220</td>\n",
       "      <td>191</td>\n",
       "      <td>362</td>\n",
       "    </tr>\n",
       "  </tbody>\n",
       "</table>\n",
       "</div>"
      ],
      "text/plain": [
       "   Years  Mahendra Singh Dhoni  Gautam Gambhir  Virender Sehwag  Murali Vijay  \\\n",
       "0   2008                   414             534              406             0   \n",
       "1   2009                   619             286              554           518   \n",
       "2   2010                   287             277              356           458   \n",
       "3   2011                   392             378              424           434   \n",
       "4   2012                   358             590              495           336   \n",
       "\n",
       "   Virat Kohli  AB de Villiers  Albie Morkel  Chris Gayle  Yuvraj Singh  \\\n",
       "0          165              95           241          200           299   \n",
       "1          246             465           295          171           340   \n",
       "2          307             111           198          292           255   \n",
       "3          557             312           138          608           343   \n",
       "4          364             319           107          733             0   \n",
       "\n",
       "   Suresh Raina  Rohit Sharma  Yusuf Pathan  Shane Watson  Keiron Pollard  \\\n",
       "0           421           404           435           472               0   \n",
       "1           434           362           243             0               0   \n",
       "2           520           404           333           185             273   \n",
       "3           438           372           283           330             146   \n",
       "4           441           433           194           255             220   \n",
       "\n",
       "   Ravindra Jadeja  Steve Smith  \n",
       "0              135            0  \n",
       "1              295            0  \n",
       "2                0            0  \n",
       "3              283            0  \n",
       "4              191          362  "
      ]
     },
     "execution_count": 3,
     "metadata": {},
     "output_type": "execute_result"
    }
   ],
   "source": [
    "print(\"RUNS SCORED BY BATSMEN OF THE SAMPLE\")\n",
    "runs.head()"
   ]
  },
  {
   "cell_type": "code",
   "execution_count": 4,
   "metadata": {
    "collapsed": false,
    "deletable": true,
    "editable": true
   },
   "outputs": [],
   "source": [
    "salaries=pd.read_csv(\"C:\\Users\\Anirudh Arputham\\Desktop\\my files-iitb\\SEM 2\\AE 102\\Projects\\salaries.csv\")"
   ]
  },
  {
   "cell_type": "code",
   "execution_count": 5,
   "metadata": {
    "collapsed": false,
    "deletable": true,
    "editable": true,
    "scrolled": true
   },
   "outputs": [
    {
     "name": "stdout",
     "output_type": "stream",
     "text": [
      "SALARIES OF THE BATSMEN OF THE SAMPLE(IN million dollars)\n"
     ]
    },
    {
     "data": {
      "text/html": [
       "<div>\n",
       "<table border=\"1\" class=\"dataframe\">\n",
       "  <thead>\n",
       "    <tr style=\"text-align: right;\">\n",
       "      <th></th>\n",
       "      <th>Years</th>\n",
       "      <th>Mahendra Singh Dhoni</th>\n",
       "      <th>Gautam Gambhir</th>\n",
       "      <th>Virender Sehwag</th>\n",
       "      <th>Murali Vijay</th>\n",
       "      <th>Virat Kohli</th>\n",
       "      <th>AB de Villiers</th>\n",
       "      <th>Albie Morkel</th>\n",
       "      <th>Morne Morkel</th>\n",
       "      <th>Chris Gayle</th>\n",
       "      <th>Yuvraj Singh</th>\n",
       "      <th>Suresh Raina</th>\n",
       "      <th>Rohit Sharma</th>\n",
       "      <th>Yusuf Pathan</th>\n",
       "      <th>Shane Watson</th>\n",
       "      <th>Keiron Pollard</th>\n",
       "      <th>Ravindra Jadeja</th>\n",
       "      <th>Steve Smith</th>\n",
       "    </tr>\n",
       "  </thead>\n",
       "  <tbody>\n",
       "    <tr>\n",
       "      <th>0</th>\n",
       "      <td>2008</td>\n",
       "      <td>1.5</td>\n",
       "      <td>0.725</td>\n",
       "      <td>0.0</td>\n",
       "      <td>0.0</td>\n",
       "      <td>0.03</td>\n",
       "      <td>0.3</td>\n",
       "      <td>0.675</td>\n",
       "      <td>0.000</td>\n",
       "      <td>0.80</td>\n",
       "      <td>0.0</td>\n",
       "      <td>0.65</td>\n",
       "      <td>0.75</td>\n",
       "      <td>0.475</td>\n",
       "      <td>0.125</td>\n",
       "      <td>0.00</td>\n",
       "      <td>0.00</td>\n",
       "      <td>NaN</td>\n",
       "    </tr>\n",
       "    <tr>\n",
       "      <th>1</th>\n",
       "      <td>2009</td>\n",
       "      <td>1.5</td>\n",
       "      <td>0.725</td>\n",
       "      <td>0.0</td>\n",
       "      <td>0.0</td>\n",
       "      <td>0.03</td>\n",
       "      <td>0.3</td>\n",
       "      <td>0.675</td>\n",
       "      <td>0.000</td>\n",
       "      <td>0.80</td>\n",
       "      <td>0.0</td>\n",
       "      <td>0.65</td>\n",
       "      <td>0.75</td>\n",
       "      <td>0.475</td>\n",
       "      <td>0.125</td>\n",
       "      <td>0.00</td>\n",
       "      <td>0.00</td>\n",
       "      <td>NaN</td>\n",
       "    </tr>\n",
       "    <tr>\n",
       "      <th>2</th>\n",
       "      <td>2010</td>\n",
       "      <td>1.5</td>\n",
       "      <td>0.725</td>\n",
       "      <td>0.0</td>\n",
       "      <td>0.0</td>\n",
       "      <td>0.03</td>\n",
       "      <td>0.3</td>\n",
       "      <td>0.000</td>\n",
       "      <td>0.000</td>\n",
       "      <td>0.80</td>\n",
       "      <td>0.0</td>\n",
       "      <td>0.65</td>\n",
       "      <td>0.75</td>\n",
       "      <td>0.000</td>\n",
       "      <td>0.125</td>\n",
       "      <td>0.75</td>\n",
       "      <td>0.00</td>\n",
       "      <td>NaN</td>\n",
       "    </tr>\n",
       "    <tr>\n",
       "      <th>3</th>\n",
       "      <td>2011</td>\n",
       "      <td>1.5</td>\n",
       "      <td>2.400</td>\n",
       "      <td>0.0</td>\n",
       "      <td>0.0</td>\n",
       "      <td>0.03</td>\n",
       "      <td>1.1</td>\n",
       "      <td>0.675</td>\n",
       "      <td>0.475</td>\n",
       "      <td>0.65</td>\n",
       "      <td>1.8</td>\n",
       "      <td>0.65</td>\n",
       "      <td>0.00</td>\n",
       "      <td>2.100</td>\n",
       "      <td>0.125</td>\n",
       "      <td>0.75</td>\n",
       "      <td>0.95</td>\n",
       "      <td>NaN</td>\n",
       "    </tr>\n",
       "    <tr>\n",
       "      <th>4</th>\n",
       "      <td>2012</td>\n",
       "      <td>1.5</td>\n",
       "      <td>2.400</td>\n",
       "      <td>0.0</td>\n",
       "      <td>0.0</td>\n",
       "      <td>0.03</td>\n",
       "      <td>1.1</td>\n",
       "      <td>0.675</td>\n",
       "      <td>0.475</td>\n",
       "      <td>0.65</td>\n",
       "      <td>NaN</td>\n",
       "      <td>0.65</td>\n",
       "      <td>2.00</td>\n",
       "      <td>2.100</td>\n",
       "      <td>0.125</td>\n",
       "      <td>0.75</td>\n",
       "      <td>0.00</td>\n",
       "      <td>NaN</td>\n",
       "    </tr>\n",
       "  </tbody>\n",
       "</table>\n",
       "</div>"
      ],
      "text/plain": [
       "   Years  Mahendra Singh Dhoni  Gautam Gambhir  Virender Sehwag  Murali Vijay  \\\n",
       "0   2008                   1.5           0.725              0.0           0.0   \n",
       "1   2009                   1.5           0.725              0.0           0.0   \n",
       "2   2010                   1.5           0.725              0.0           0.0   \n",
       "3   2011                   1.5           2.400              0.0           0.0   \n",
       "4   2012                   1.5           2.400              0.0           0.0   \n",
       "\n",
       "   Virat Kohli  AB de Villiers  Albie Morkel  Morne Morkel  Chris Gayle  \\\n",
       "0         0.03             0.3         0.675         0.000         0.80   \n",
       "1         0.03             0.3         0.675         0.000         0.80   \n",
       "2         0.03             0.3         0.000         0.000         0.80   \n",
       "3         0.03             1.1         0.675         0.475         0.65   \n",
       "4         0.03             1.1         0.675         0.475         0.65   \n",
       "\n",
       "   Yuvraj Singh  Suresh Raina  Rohit Sharma  Yusuf Pathan  Shane Watson  \\\n",
       "0           0.0          0.65          0.75         0.475         0.125   \n",
       "1           0.0          0.65          0.75         0.475         0.125   \n",
       "2           0.0          0.65          0.75         0.000         0.125   \n",
       "3           1.8          0.65          0.00         2.100         0.125   \n",
       "4           NaN          0.65          2.00         2.100         0.125   \n",
       "\n",
       "   Keiron Pollard  Ravindra Jadeja  Steve Smith  \n",
       "0            0.00             0.00          NaN  \n",
       "1            0.00             0.00          NaN  \n",
       "2            0.75             0.00          NaN  \n",
       "3            0.75             0.95          NaN  \n",
       "4            0.75             0.00          NaN  "
      ]
     },
     "execution_count": 5,
     "metadata": {},
     "output_type": "execute_result"
    }
   ],
   "source": [
    "print(\"SALARIES OF THE BATSMEN OF THE SAMPLE(IN million dollars)\")\n",
    "salaries.head()"
   ]
  },
  {
   "cell_type": "code",
   "execution_count": 6,
   "metadata": {
    "collapsed": false,
    "deletable": true,
    "editable": true
   },
   "outputs": [],
   "source": [
    "del salaries[\"Morne Morkel\"]\n",
    "del salaries[\"Steve Smith\"]\n",
    "names=[\"Mahendra Singh Dhoni\",\"Gautam Gambhir\",\"Virender Sehwag\",\"Murali Vijay\",\"Virat Kohli\",\"AB de Villiers\",\"Albie Morkel\",\"Chris Gayle\",\"Yuvraj Singh\",\"Suresh Raina\",\"Rohit Sharma\",\"Yusuf Pathan\",\"Shane Watson\",\"Keiron Pollard\",\"Ravindra Jadeja\"]"
   ]
  },
  {
   "cell_type": "code",
   "execution_count": 116,
   "metadata": {
    "collapsed": false,
    "deletable": true,
    "editable": true
   },
   "outputs": [],
   "source": [
    "#finding the correlation between the salaries offered and the runs scored by that batsman\n",
    "corrbat=[]\n",
    "print\n",
    "for i in names:\n",
    "    corrbat.append(pearsonr(salaries[i],runs[i])[0])"
   ]
  },
  {
   "cell_type": "code",
   "execution_count": 117,
   "metadata": {
    "collapsed": false,
    "deletable": true,
    "editable": true
   },
   "outputs": [],
   "source": [
    "runs_sal=pd.DataFrame({\"Players\":names,\"correlation between runs and salary offered\":corrbat})"
   ]
  },
  {
   "cell_type": "code",
   "execution_count": 119,
   "metadata": {
    "collapsed": false,
    "deletable": true,
    "editable": true
   },
   "outputs": [
    {
     "data": {
      "text/html": [
       "<div>\n",
       "<table border=\"1\" class=\"dataframe\">\n",
       "  <thead>\n",
       "    <tr style=\"text-align: right;\">\n",
       "      <th></th>\n",
       "      <th>Players</th>\n",
       "      <th>correlation between runs and salary offered</th>\n",
       "    </tr>\n",
       "  </thead>\n",
       "  <tbody>\n",
       "    <tr>\n",
       "      <th>0</th>\n",
       "      <td>Mahendra Singh Dhoni</td>\n",
       "      <td>-0.085592</td>\n",
       "    </tr>\n",
       "    <tr>\n",
       "      <th>1</th>\n",
       "      <td>Gautam Gambhir</td>\n",
       "      <td>0.297456</td>\n",
       "    </tr>\n",
       "    <tr>\n",
       "      <th>2</th>\n",
       "      <td>Virender Sehwag</td>\n",
       "      <td>0.051030</td>\n",
       "    </tr>\n",
       "    <tr>\n",
       "      <th>3</th>\n",
       "      <td>Murali Vijay</td>\n",
       "      <td>-0.254187</td>\n",
       "    </tr>\n",
       "    <tr>\n",
       "      <th>4</th>\n",
       "      <td>Virat Kohli</td>\n",
       "      <td>0.382507</td>\n",
       "    </tr>\n",
       "    <tr>\n",
       "      <th>5</th>\n",
       "      <td>AB de Villiers</td>\n",
       "      <td>0.485415</td>\n",
       "    </tr>\n",
       "    <tr>\n",
       "      <th>6</th>\n",
       "      <td>Albie Morkel</td>\n",
       "      <td>0.490437</td>\n",
       "    </tr>\n",
       "    <tr>\n",
       "      <th>7</th>\n",
       "      <td>Chris Gayle</td>\n",
       "      <td>0.041142</td>\n",
       "    </tr>\n",
       "    <tr>\n",
       "      <th>8</th>\n",
       "      <td>Yuvraj Singh</td>\n",
       "      <td>NaN</td>\n",
       "    </tr>\n",
       "    <tr>\n",
       "      <th>9</th>\n",
       "      <td>Suresh Raina</td>\n",
       "      <td>-0.276866</td>\n",
       "    </tr>\n",
       "    <tr>\n",
       "      <th>10</th>\n",
       "      <td>Rohit Sharma</td>\n",
       "      <td>0.123117</td>\n",
       "    </tr>\n",
       "    <tr>\n",
       "      <th>11</th>\n",
       "      <td>Yusuf Pathan</td>\n",
       "      <td>-0.175028</td>\n",
       "    </tr>\n",
       "    <tr>\n",
       "      <th>12</th>\n",
       "      <td>Shane Watson</td>\n",
       "      <td>0.040510</td>\n",
       "    </tr>\n",
       "    <tr>\n",
       "      <th>13</th>\n",
       "      <td>Keiron Pollard</td>\n",
       "      <td>0.826651</td>\n",
       "    </tr>\n",
       "    <tr>\n",
       "      <th>14</th>\n",
       "      <td>Ravindra Jadeja</td>\n",
       "      <td>-0.011654</td>\n",
       "    </tr>\n",
       "  </tbody>\n",
       "</table>\n",
       "</div>"
      ],
      "text/plain": [
       "                 Players  correlation between runs and salary offered\n",
       "0   Mahendra Singh Dhoni                                    -0.085592\n",
       "1         Gautam Gambhir                                     0.297456\n",
       "2        Virender Sehwag                                     0.051030\n",
       "3           Murali Vijay                                    -0.254187\n",
       "4            Virat Kohli                                     0.382507\n",
       "5         AB de Villiers                                     0.485415\n",
       "6           Albie Morkel                                     0.490437\n",
       "7            Chris Gayle                                     0.041142\n",
       "8           Yuvraj Singh                                          NaN\n",
       "9           Suresh Raina                                    -0.276866\n",
       "10          Rohit Sharma                                     0.123117\n",
       "11          Yusuf Pathan                                    -0.175028\n",
       "12          Shane Watson                                     0.040510\n",
       "13        Keiron Pollard                                     0.826651\n",
       "14       Ravindra Jadeja                                    -0.011654"
      ]
     },
     "execution_count": 119,
     "metadata": {},
     "output_type": "execute_result"
    }
   ],
   "source": [
    "runs_sal"
   ]
  },
  {
   "cell_type": "code",
   "execution_count": 188,
   "metadata": {
    "collapsed": false,
    "deletable": true,
    "editable": true
   },
   "outputs": [
    {
     "data": {
      "text/plain": [
       "<matplotlib.axes._subplots.AxesSubplot at 0xf347dd8>"
      ]
     },
     "execution_count": 188,
     "metadata": {},
     "output_type": "execute_result"
    },
    {
     "data": {
      "image/png": "[encoded data removed]",
      "text/plain": [
       "<matplotlib.figure.Figure at 0xf11d898>"
      ]
     },
     "metadata": {},
     "output_type": "display_data"
    }
   ],
   "source": [
    "runs_sal.plot(y='correlation between runs and salary offered',kind='bar',figsize=(15,10),x=\"Players\")"
   ]
  },
  {
   "cell_type": "code",
   "execution_count": 22,
   "metadata": {
    "collapsed": false,
    "deletable": true,
    "editable": true
   },
   "outputs": [],
   "source": [
    "wickets=pd.read_csv(\"C:\\Users\\Anirudh Arputham\\Desktop\\my files-iitb\\SEM 2\\AE 102\\Projects\\Player wickets.csv\")"
   ]
  },
  {
   "cell_type": "code",
   "execution_count": 35,
   "metadata": {
    "collapsed": false,
    "deletable": true,
    "editable": true
   },
   "outputs": [
    {
     "name": "stdout",
     "output_type": "stream",
     "text": [
      "WICKETS TAKEN BY THE BOWLERS OF THE SAMPLE\n"
     ]
    },
    {
     "data": {
      "text/html": [
       "<div>\n",
       "<table border=\"1\" class=\"dataframe\">\n",
       "  <thead>\n",
       "    <tr style=\"text-align: right;\">\n",
       "      <th></th>\n",
       "      <th>Years</th>\n",
       "      <th>Harbhajan Singh</th>\n",
       "      <th>Morne Morkel</th>\n",
       "      <th>Albie Morkel</th>\n",
       "      <th>Ravichandran Ashwin</th>\n",
       "      <th>Lasith Malinga</th>\n",
       "      <th>Shane Watson</th>\n",
       "      <th>Amit Mishra</th>\n",
       "      <th>Piyush Chawla</th>\n",
       "      <th>Keiron Pollard</th>\n",
       "      <th>Ishant Sharma</th>\n",
       "      <th>Ravindra Jadeja</th>\n",
       "      <th>Dale Steyn</th>\n",
       "      <th>Mitchell Johnson</th>\n",
       "    </tr>\n",
       "  </thead>\n",
       "  <tbody>\n",
       "    <tr>\n",
       "      <th>0</th>\n",
       "      <td>2008</td>\n",
       "      <td>5</td>\n",
       "      <td>0</td>\n",
       "      <td>17</td>\n",
       "      <td>0</td>\n",
       "      <td>0</td>\n",
       "      <td>17</td>\n",
       "      <td>11</td>\n",
       "      <td>17</td>\n",
       "      <td>0</td>\n",
       "      <td>7</td>\n",
       "      <td>0</td>\n",
       "      <td>10</td>\n",
       "      <td>0</td>\n",
       "    </tr>\n",
       "    <tr>\n",
       "      <th>1</th>\n",
       "      <td>2009</td>\n",
       "      <td>12</td>\n",
       "      <td>0</td>\n",
       "      <td>13</td>\n",
       "      <td>15</td>\n",
       "      <td>18</td>\n",
       "      <td>0</td>\n",
       "      <td>14</td>\n",
       "      <td>12</td>\n",
       "      <td>0</td>\n",
       "      <td>18</td>\n",
       "      <td>6</td>\n",
       "      <td>17</td>\n",
       "      <td>0</td>\n",
       "    </tr>\n",
       "    <tr>\n",
       "      <th>2</th>\n",
       "      <td>2010</td>\n",
       "      <td>17</td>\n",
       "      <td>0</td>\n",
       "      <td>11</td>\n",
       "      <td>13</td>\n",
       "      <td>15</td>\n",
       "      <td>6</td>\n",
       "      <td>17</td>\n",
       "      <td>12</td>\n",
       "      <td>15</td>\n",
       "      <td>7</td>\n",
       "      <td>0</td>\n",
       "      <td>15</td>\n",
       "      <td>0</td>\n",
       "    </tr>\n",
       "    <tr>\n",
       "      <th>3</th>\n",
       "      <td>2011</td>\n",
       "      <td>14</td>\n",
       "      <td>13</td>\n",
       "      <td>15</td>\n",
       "      <td>20</td>\n",
       "      <td>28</td>\n",
       "      <td>6</td>\n",
       "      <td>19</td>\n",
       "      <td>16</td>\n",
       "      <td>10</td>\n",
       "      <td>11</td>\n",
       "      <td>8</td>\n",
       "      <td>14</td>\n",
       "      <td>0</td>\n",
       "    </tr>\n",
       "    <tr>\n",
       "      <th>4</th>\n",
       "      <td>2012</td>\n",
       "      <td>6</td>\n",
       "      <td>25</td>\n",
       "      <td>13</td>\n",
       "      <td>14</td>\n",
       "      <td>22</td>\n",
       "      <td>6</td>\n",
       "      <td>13</td>\n",
       "      <td>16</td>\n",
       "      <td>16</td>\n",
       "      <td>0</td>\n",
       "      <td>12</td>\n",
       "      <td>18</td>\n",
       "      <td>0</td>\n",
       "    </tr>\n",
       "  </tbody>\n",
       "</table>\n",
       "</div>"
      ],
      "text/plain": [
       "   Years  Harbhajan Singh  Morne Morkel  Albie Morkel  Ravichandran Ashwin  \\\n",
       "0   2008                5             0            17                    0   \n",
       "1   2009               12             0            13                   15   \n",
       "2   2010               17             0            11                   13   \n",
       "3   2011               14            13            15                   20   \n",
       "4   2012                6            25            13                   14   \n",
       "\n",
       "   Lasith Malinga  Shane Watson  Amit Mishra  Piyush Chawla  Keiron Pollard  \\\n",
       "0               0            17           11             17               0   \n",
       "1              18             0           14             12               0   \n",
       "2              15             6           17             12              15   \n",
       "3              28             6           19             16              10   \n",
       "4              22             6           13             16              16   \n",
       "\n",
       "   Ishant Sharma  Ravindra Jadeja  Dale Steyn  Mitchell Johnson  \n",
       "0              7                0          10                 0  \n",
       "1             18                6          17                 0  \n",
       "2              7                0          15                 0  \n",
       "3             11                8          14                 0  \n",
       "4              0               12          18                 0  "
      ]
     },
     "execution_count": 35,
     "metadata": {},
     "output_type": "execute_result"
    }
   ],
   "source": [
    "print(\"WICKETS TAKEN BY THE BOWLERS OF THE SAMPLE\")\n",
    "wickets.head()"
   ]
  },
  {
   "cell_type": "code",
   "execution_count": 171,
   "metadata": {
    "collapsed": false,
    "deletable": true,
    "editable": true
   },
   "outputs": [],
   "source": [
    "bowl_sal=pd.read_csv(\"C:\\Users\\Anirudh Arputham\\Desktop\\my files-iitb\\SEM 2\\AE 102\\Projects\\salaries bowlers.csv\")"
   ]
  },
  {
   "cell_type": "code",
   "execution_count": 37,
   "metadata": {
    "collapsed": false,
    "deletable": true,
    "editable": true
   },
   "outputs": [
    {
     "name": "stdout",
     "output_type": "stream",
     "text": [
      "SALRIES OF THE BOWLERS OF THE SAMPLE\n"
     ]
    },
    {
     "data": {
      "text/html": [
       "<div>\n",
       "<table border=\"1\" class=\"dataframe\">\n",
       "  <thead>\n",
       "    <tr style=\"text-align: right;\">\n",
       "      <th></th>\n",
       "      <th>Years</th>\n",
       "      <th>Harbhajan Singh</th>\n",
       "      <th>Morne Morkel</th>\n",
       "      <th>Albie Morkel</th>\n",
       "      <th>Ravichandran Ashwin</th>\n",
       "      <th>Lasith Malinga</th>\n",
       "      <th>Shane Watson</th>\n",
       "      <th>Amit Mishra</th>\n",
       "      <th>Piyush Chawla</th>\n",
       "      <th>Keiron Pollard</th>\n",
       "      <th>Ishant Sharma</th>\n",
       "      <th>Ravindra Jadeja</th>\n",
       "      <th>Dale Steyn</th>\n",
       "      <th>Mitchell Johnson</th>\n",
       "    </tr>\n",
       "  </thead>\n",
       "  <tbody>\n",
       "    <tr>\n",
       "      <th>0</th>\n",
       "      <td>2008</td>\n",
       "      <td>0.85</td>\n",
       "      <td>0.000</td>\n",
       "      <td>0.675</td>\n",
       "      <td>0.00</td>\n",
       "      <td>0.35</td>\n",
       "      <td>0.125</td>\n",
       "      <td>NaN</td>\n",
       "      <td>0.4</td>\n",
       "      <td>NaN</td>\n",
       "      <td>0.95</td>\n",
       "      <td>0.00</td>\n",
       "      <td>0.325</td>\n",
       "      <td>0.0</td>\n",
       "    </tr>\n",
       "    <tr>\n",
       "      <th>1</th>\n",
       "      <td>2009</td>\n",
       "      <td>0.85</td>\n",
       "      <td>0.000</td>\n",
       "      <td>0.675</td>\n",
       "      <td>0.00</td>\n",
       "      <td>0.35</td>\n",
       "      <td>0.125</td>\n",
       "      <td>NaN</td>\n",
       "      <td>0.4</td>\n",
       "      <td>NaN</td>\n",
       "      <td>0.95</td>\n",
       "      <td>0.00</td>\n",
       "      <td>0.325</td>\n",
       "      <td>0.0</td>\n",
       "    </tr>\n",
       "    <tr>\n",
       "      <th>2</th>\n",
       "      <td>2010</td>\n",
       "      <td>0.85</td>\n",
       "      <td>0.000</td>\n",
       "      <td>NaN</td>\n",
       "      <td>0.00</td>\n",
       "      <td>0.35</td>\n",
       "      <td>0.125</td>\n",
       "      <td>NaN</td>\n",
       "      <td>0.4</td>\n",
       "      <td>0.75</td>\n",
       "      <td>0.45</td>\n",
       "      <td>0.00</td>\n",
       "      <td>0.325</td>\n",
       "      <td>0.0</td>\n",
       "    </tr>\n",
       "    <tr>\n",
       "      <th>3</th>\n",
       "      <td>2011</td>\n",
       "      <td>0.85</td>\n",
       "      <td>0.475</td>\n",
       "      <td>0.675</td>\n",
       "      <td>0.85</td>\n",
       "      <td>NaN</td>\n",
       "      <td>0.125</td>\n",
       "      <td>NaN</td>\n",
       "      <td>0.9</td>\n",
       "      <td>0.75</td>\n",
       "      <td>0.45</td>\n",
       "      <td>0.95</td>\n",
       "      <td>1.200</td>\n",
       "      <td>0.0</td>\n",
       "    </tr>\n",
       "    <tr>\n",
       "      <th>4</th>\n",
       "      <td>2012</td>\n",
       "      <td>0.85</td>\n",
       "      <td>0.475</td>\n",
       "      <td>0.675</td>\n",
       "      <td>0.85</td>\n",
       "      <td>NaN</td>\n",
       "      <td>0.125</td>\n",
       "      <td>0.3</td>\n",
       "      <td>0.9</td>\n",
       "      <td>0.75</td>\n",
       "      <td>0.45</td>\n",
       "      <td>0.00</td>\n",
       "      <td>1.200</td>\n",
       "      <td>0.0</td>\n",
       "    </tr>\n",
       "  </tbody>\n",
       "</table>\n",
       "</div>"
      ],
      "text/plain": [
       "   Years  Harbhajan Singh  Morne Morkel  Albie Morkel  Ravichandran Ashwin  \\\n",
       "0   2008             0.85         0.000         0.675                 0.00   \n",
       "1   2009             0.85         0.000         0.675                 0.00   \n",
       "2   2010             0.85         0.000           NaN                 0.00   \n",
       "3   2011             0.85         0.475         0.675                 0.85   \n",
       "4   2012             0.85         0.475         0.675                 0.85   \n",
       "\n",
       "   Lasith Malinga  Shane Watson  Amit Mishra  Piyush Chawla  Keiron Pollard  \\\n",
       "0            0.35         0.125          NaN            0.4             NaN   \n",
       "1            0.35         0.125          NaN            0.4             NaN   \n",
       "2            0.35         0.125          NaN            0.4            0.75   \n",
       "3             NaN         0.125          NaN            0.9            0.75   \n",
       "4             NaN         0.125          0.3            0.9            0.75   \n",
       "\n",
       "   Ishant Sharma  Ravindra Jadeja  Dale Steyn  Mitchell Johnson  \n",
       "0           0.95             0.00       0.325               0.0  \n",
       "1           0.95             0.00       0.325               0.0  \n",
       "2           0.45             0.00       0.325               0.0  \n",
       "3           0.45             0.95       1.200               0.0  \n",
       "4           0.45             0.00       1.200               0.0  "
      ]
     },
     "execution_count": 37,
     "metadata": {},
     "output_type": "execute_result"
    }
   ],
   "source": [
    "print(\"SALRIES OF THE BOWLERS OF THE SAMPLE\")\n",
    "bowl_sal.head()"
   ]
  },
  {
   "cell_type": "code",
   "execution_count": 173,
   "metadata": {
    "collapsed": false,
    "deletable": true,
    "editable": true
   },
   "outputs": [],
   "source": [
    "#finding the correlation between the salaries offered and the wickets taken by that bowler\n",
    "corrbowl=[]\n",
    "bowlers=[\"Harbhajan Singh\",\"Morne Morkel\",\"Albie Morkel\",\"Ravichandran Ashwin\",\"Lasith Malinga\",\"Shane Watson\",\"Amit Mishra\",\"Piyush Chawla\",\"Keiron Pollard\",\"Ishant Sharma\",\"Ravindra Jadeja\",\"Dale Steyn\",\"Mitchell Johnson\"]\n",
    "for i in bowlers:\n",
    "    corrbowl.append(pearsonr(wickets[i][3:],bowl_sal[i][3:])[0])\n",
    "bowlcorr=pd.DataFrame({\"Players\":bowlers,\"correlation between salary and wickets taken\":corrbowl})"
   ]
  },
  {
   "cell_type": "code",
   "execution_count": 174,
   "metadata": {
    "collapsed": false,
    "deletable": true,
    "editable": true
   },
   "outputs": [
    {
     "data": {
      "text/html": [
       "<div>\n",
       "<table border=\"1\" class=\"dataframe\">\n",
       "  <thead>\n",
       "    <tr style=\"text-align: right;\">\n",
       "      <th></th>\n",
       "      <th>Players</th>\n",
       "      <th>correlation between salary and wickets taken</th>\n",
       "    </tr>\n",
       "  </thead>\n",
       "  <tbody>\n",
       "    <tr>\n",
       "      <th>0</th>\n",
       "      <td>Harbhajan Singh</td>\n",
       "      <td>0.245919</td>\n",
       "    </tr>\n",
       "    <tr>\n",
       "      <th>1</th>\n",
       "      <td>Morne Morkel</td>\n",
       "      <td>0.651432</td>\n",
       "    </tr>\n",
       "    <tr>\n",
       "      <th>2</th>\n",
       "      <td>Albie Morkel</td>\n",
       "      <td>0.921670</td>\n",
       "    </tr>\n",
       "    <tr>\n",
       "      <th>3</th>\n",
       "      <td>Ravichandran Ashwin</td>\n",
       "      <td>-0.509011</td>\n",
       "    </tr>\n",
       "    <tr>\n",
       "      <th>4</th>\n",
       "      <td>Lasith Malinga</td>\n",
       "      <td>NaN</td>\n",
       "    </tr>\n",
       "    <tr>\n",
       "      <th>5</th>\n",
       "      <td>Shane Watson</td>\n",
       "      <td>0.307896</td>\n",
       "    </tr>\n",
       "    <tr>\n",
       "      <th>6</th>\n",
       "      <td>Amit Mishra</td>\n",
       "      <td>NaN</td>\n",
       "    </tr>\n",
       "    <tr>\n",
       "      <th>7</th>\n",
       "      <td>Piyush Chawla</td>\n",
       "      <td>0.539261</td>\n",
       "    </tr>\n",
       "    <tr>\n",
       "      <th>8</th>\n",
       "      <td>Keiron Pollard</td>\n",
       "      <td>-0.790076</td>\n",
       "    </tr>\n",
       "    <tr>\n",
       "      <th>9</th>\n",
       "      <td>Ishant Sharma</td>\n",
       "      <td>NaN</td>\n",
       "    </tr>\n",
       "    <tr>\n",
       "      <th>10</th>\n",
       "      <td>Ravindra Jadeja</td>\n",
       "      <td>-0.272916</td>\n",
       "    </tr>\n",
       "    <tr>\n",
       "      <th>11</th>\n",
       "      <td>Dale Steyn</td>\n",
       "      <td>0.755031</td>\n",
       "    </tr>\n",
       "    <tr>\n",
       "      <th>12</th>\n",
       "      <td>Mitchell Johnson</td>\n",
       "      <td>0.294544</td>\n",
       "    </tr>\n",
       "  </tbody>\n",
       "</table>\n",
       "</div>"
      ],
      "text/plain": [
       "                Players  correlation between salary and wickets taken\n",
       "0       Harbhajan Singh                                      0.245919\n",
       "1          Morne Morkel                                      0.651432\n",
       "2          Albie Morkel                                      0.921670\n",
       "3   Ravichandran Ashwin                                     -0.509011\n",
       "4        Lasith Malinga                                           NaN\n",
       "5          Shane Watson                                      0.307896\n",
       "6           Amit Mishra                                           NaN\n",
       "7         Piyush Chawla                                      0.539261\n",
       "8        Keiron Pollard                                     -0.790076\n",
       "9         Ishant Sharma                                           NaN\n",
       "10      Ravindra Jadeja                                     -0.272916\n",
       "11           Dale Steyn                                      0.755031\n",
       "12     Mitchell Johnson                                      0.294544"
      ]
     },
     "execution_count": 174,
     "metadata": {},
     "output_type": "execute_result"
    }
   ],
   "source": [
    "bowlcorr"
   ]
  },
  {
   "cell_type": "code",
   "execution_count": 191,
   "metadata": {
    "collapsed": false,
    "deletable": true,
    "editable": true
   },
   "outputs": [
    {
     "data": {
      "text/plain": [
       "<matplotlib.axes._subplots.AxesSubplot at 0xf138cc0>"
      ]
     },
     "execution_count": 191,
     "metadata": {},
     "output_type": "execute_result"
    },
    {
     "data": {
      "image/png": "[encoded data removed]",
      "text/plain": [
       "<matplotlib.figure.Figure at 0xf4b9358>"
      ]
     },
     "metadata": {},
     "output_type": "display_data"
    }
   ],
   "source": [
    "bowlcorr.plot(y='correlation between salary and wickets taken',kind='bar',figsize=(15,10),x=\"Players\")"
   ]
  },
  {
   "cell_type": "code",
   "execution_count": 29,
   "metadata": {
    "collapsed": false,
    "deletable": true,
    "editable": true
   },
   "outputs": [],
   "source": [
    "#mean of bat sal for every year\n",
    "bat=[]\n",
    "for i in names:\n",
    "    bat.append(list(salaries[i]))\n",
    "bat2=[]\n",
    "for i in range(10):\n",
    "    l=[]\n",
    "    for j in bat:\n",
    "        k=j[i]\n",
    "        l.append(k)\n",
    "    bat2.append(l)\n",
    "meanbat=[]\n",
    "for i in bat2:\n",
    "    meanbat.append(np.mean(i))   "
   ]
  },
  {
   "cell_type": "code",
   "execution_count": 30,
   "metadata": {
    "collapsed": false,
    "deletable": true,
    "editable": true
   },
   "outputs": [],
   "source": [
    "#mean of bowl sal for every year\n",
    "bowl=[]\n",
    "names2=[\"Harbhajan Singh\",\"Morne Morkel\",\"Albie Morkel\",\"Ravichandran Ashwin\",\"Lasith Malinga\",\"Shane Watson\",\"Amit Mishra\",\"Piyush Chawla\",\"Keiron Pollard\",\"Ishant Sharma\",\"Ravindra Jadeja\",\"Dale Steyn\",\"Mitchell Johnson\"]\n",
    "for i in names2:\n",
    "    bowl.append(list(bowl_sal[i]))\n",
    "bowl2=[]\n",
    "for i in range(10):\n",
    "    l=[]\n",
    "    for j in bowl:\n",
    "        k=j[i]\n",
    "        l.append(k)\n",
    "    bowl2.append(l)\n",
    "meanbowl=[]\n",
    "for i in bowl2:\n",
    "    meanbowl.append(np.mean(i))"
   ]
  },
  {
   "cell_type": "code",
   "execution_count": 31,
   "metadata": {
    "collapsed": true,
    "deletable": true,
    "editable": true
   },
   "outputs": [],
   "source": [
    "#getting std dev\n",
    "stdbat=[]\n",
    "stdbowl=[]\n",
    "for i in bat2:\n",
    "    stdbat.append(np.std(i))\n",
    "for i in bowl2:\n",
    "    stdbowl.append(np.std(i))"
   ]
  },
  {
   "cell_type": "code",
   "execution_count": 32,
   "metadata": {
    "collapsed": true,
    "deletable": true,
    "editable": true
   },
   "outputs": [],
   "source": [
    "teststat=[]\n",
    "for i in range(10):\n",
    "    denom=((((stdbat[i])**2)/16)+(((stdbowl[i])**2)/13.0))**(0.5)\n",
    "    t=abs(meanbat[i]-meanbowl[i])/denom\n",
    "    teststat.append(t)"
   ]
  },
  {
   "cell_type": "code",
   "execution_count": 33,
   "metadata": {
    "collapsed": false,
    "deletable": true,
    "editable": true
   },
   "outputs": [],
   "source": [
    "resulthypothesis=[]\n",
    "for i in teststat:\n",
    "    if(i<1.96):#assuming 0.05 alpha value\n",
    "        resulthypothesis.append(\"Yes\")\n",
    "    else:\n",
    "        resulthypothesis.append(\"No\")"
   ]
  },
  {
   "cell_type": "code",
   "execution_count": 100,
   "metadata": {
    "collapsed": true,
    "deletable": true,
    "editable": true
   },
   "outputs": [],
   "source": [
    "hypothesis1=pd.DataFrame({\"Years\":years,\"have bowlers on an average been paid the same as batsmen?\":resulthypothesis})"
   ]
  },
  {
   "cell_type": "code",
   "execution_count": 101,
   "metadata": {
    "collapsed": false,
    "deletable": true,
    "editable": true
   },
   "outputs": [
    {
     "data": {
      "text/html": [
       "<div>\n",
       "<table border=\"1\" class=\"dataframe\">\n",
       "  <thead>\n",
       "    <tr style=\"text-align: right;\">\n",
       "      <th></th>\n",
       "      <th>Years</th>\n",
       "      <th>have bowlers on an average been paid the same as batsmen?</th>\n",
       "    </tr>\n",
       "  </thead>\n",
       "  <tbody>\n",
       "    <tr>\n",
       "      <th>0</th>\n",
       "      <td>2008</td>\n",
       "      <td>No</td>\n",
       "    </tr>\n",
       "    <tr>\n",
       "      <th>1</th>\n",
       "      <td>2009</td>\n",
       "      <td>No</td>\n",
       "    </tr>\n",
       "    <tr>\n",
       "      <th>2</th>\n",
       "      <td>2010</td>\n",
       "      <td>No</td>\n",
       "    </tr>\n",
       "    <tr>\n",
       "      <th>3</th>\n",
       "      <td>2011</td>\n",
       "      <td>No</td>\n",
       "    </tr>\n",
       "    <tr>\n",
       "      <th>4</th>\n",
       "      <td>2012</td>\n",
       "      <td>No</td>\n",
       "    </tr>\n",
       "    <tr>\n",
       "      <th>5</th>\n",
       "      <td>2013</td>\n",
       "      <td>No</td>\n",
       "    </tr>\n",
       "    <tr>\n",
       "      <th>6</th>\n",
       "      <td>2014</td>\n",
       "      <td>No</td>\n",
       "    </tr>\n",
       "    <tr>\n",
       "      <th>7</th>\n",
       "      <td>2015</td>\n",
       "      <td>No</td>\n",
       "    </tr>\n",
       "    <tr>\n",
       "      <th>8</th>\n",
       "      <td>2016</td>\n",
       "      <td>Yes</td>\n",
       "    </tr>\n",
       "    <tr>\n",
       "      <th>9</th>\n",
       "      <td>2017</td>\n",
       "      <td>No</td>\n",
       "    </tr>\n",
       "  </tbody>\n",
       "</table>\n",
       "</div>"
      ],
      "text/plain": [
       "   Years have bowlers on an average been paid the same as batsmen?\n",
       "0   2008                                                 No       \n",
       "1   2009                                                 No       \n",
       "2   2010                                                 No       \n",
       "3   2011                                                 No       \n",
       "4   2012                                                 No       \n",
       "5   2013                                                 No       \n",
       "6   2014                                                 No       \n",
       "7   2015                                                 No       \n",
       "8   2016                                                Yes       \n",
       "9   2017                                                 No       "
      ]
     },
     "execution_count": 101,
     "metadata": {},
     "output_type": "execute_result"
    }
   ],
   "source": [
    "hypothesis1"
   ]
  },
  {
   "cell_type": "code",
   "execution_count": 43,
   "metadata": {
    "collapsed": false,
    "deletable": true,
    "editable": true
   },
   "outputs": [],
   "source": [
    "#bowlstats=pd.read_csv(\"C:\\Users\\Anirudh Arputham\\Desktop\\my files-iitb\\SEM 2\\AE 102\\Projects\\Bowler stats.csv\")"
   ]
  },
  {
   "cell_type": "code",
   "execution_count": 88,
   "metadata": {
    "collapsed": false,
    "deletable": true,
    "editable": true
   },
   "outputs": [],
   "source": [
    "foreign=pd.read_csv(\"C:\\Users\\Anirudh Arputham\\Desktop\\my files-iitb\\SEM 2\\AE 102\\Projects\\Overseas.csv\")"
   ]
  },
  {
   "cell_type": "code",
   "execution_count": 89,
   "metadata": {
    "collapsed": false,
    "deletable": true,
    "editable": true
   },
   "outputs": [],
   "source": [
    "foreign.head()\n",
    "f1=[\"AB de Villiers\",\"Keiron Pollard\",\"Shane Watson\",\"Chris Gayle\",\"Brendon Mcullum\",\"David Warner\"]\n",
    "f2=[\"Mahendra Singh Dhoni\",\"Gautam Gambhir\",\"Yuvraj Singh\",\"Virat Kohli\",\"Rohit Sharma\",\"Yusuf Pathan\",\"Suresh Raina\"]\n"
   ]
  },
  {
   "cell_type": "code",
   "execution_count": 90,
   "metadata": {
    "collapsed": false,
    "deletable": true,
    "editable": true
   },
   "outputs": [],
   "source": [
    "#mean of foreign players' salaries\n",
    "over=[]\n",
    "for i in f1:\n",
    "    over.append(list(foreign[i]))\n",
    "over2=[]\n",
    "for i in range(6):\n",
    "    l=[]\n",
    "    for j in over:\n",
    "        k=j[i]\n",
    "        l.append(k)\n",
    "    over2.append(l)\n",
    "meanover=[]\n",
    "for i in over2:\n",
    "    meanover.append(np.mean(i))   "
   ]
  },
  {
   "cell_type": "code",
   "execution_count": 91,
   "metadata": {
    "collapsed": false,
    "deletable": true,
    "editable": true
   },
   "outputs": [],
   "source": [
    "#mean of indian players' salaries\n",
    "ind=[]\n",
    "for i in f2:\n",
    "    ind.append(list(foreign[i]))\n",
    "ind2=[]\n",
    "for i in range(6):\n",
    "    l=[]\n",
    "    for j in ind:\n",
    "        k=j[i]\n",
    "        l.append(k)\n",
    "    ind2.append(l)\n",
    "meanind=[]\n",
    "for i in ind2:\n",
    "    meanind.append(np.mean(i))  "
   ]
  },
  {
   "cell_type": "code",
   "execution_count": 92,
   "metadata": {
    "collapsed": false,
    "deletable": true,
    "editable": true
   },
   "outputs": [],
   "source": [
    "#getting std dev\n",
    "stdover=[]\n",
    "stdind=[]\n",
    "for i in over2:\n",
    "    stdover.append(np.std(i))\n",
    "for i in ind2:\n",
    "    stdind.append(np.std(i))"
   ]
  },
  {
   "cell_type": "code",
   "execution_count": 101,
   "metadata": {
    "collapsed": false,
    "deletable": true,
    "editable": true
   },
   "outputs": [],
   "source": [
    "stat=[]\n",
    "for i in range(6):\n",
    "    denom=((((stdind[i])**2)/7)+(((stdover[i])**2)/6.0))**(0.5)\n",
    "    t=abs(meanover[i]-meanind[i])/denom\n",
    "    stat.append(t)\n",
    "result=[]\n",
    "for i in stat:\n",
    "    if(i<1.96):#assuming 0.05 alpha value\n",
    "        result.append(\"Yes\")\n",
    "    else:\n",
    "        result.append(\"No\")\n",
    "yrs=[2011,2012,2013,2014,2015,2016]\n",
    "hypothesis2=pd.DataFrame({\"Years\":yrs,\"were the foreigner cricketers on an average paid more than their indian counterparts ?\":result})"
   ]
  },
  {
   "cell_type": "code",
   "execution_count": 102,
   "metadata": {
    "collapsed": true,
    "deletable": true,
    "editable": true
   },
   "outputs": [],
   "source": [
    "foreign2=pd.read_csv(\"C:\\Users\\Anirudh Arputham\\Desktop\\my files-iitb\\SEM 2\\AE 102\\Projects\\Batsmen stats.csv\")"
   ]
  },
  {
   "cell_type": "code",
   "execution_count": 95,
   "metadata": {
    "collapsed": false,
    "deletable": true,
    "editable": true
   },
   "outputs": [],
   "source": [
    "#getting mean of runs scored by foreign players\n",
    "overruns=[]\n",
    "for i in f1:\n",
    "    overruns.append(list(foreign2[i]))\n",
    "overruns2=[]\n",
    "for i in range(6):\n",
    "    l=[]\n",
    "    for j in overruns:\n",
    "        k=j[i]\n",
    "        l.append(k)\n",
    "    overruns2.append(l)\n",
    "meanoverruns=[]\n",
    "for i in overruns2:\n",
    "    meanoverruns.append(np.mean(i))  "
   ]
  },
  {
   "cell_type": "code",
   "execution_count": 96,
   "metadata": {
    "collapsed": false,
    "deletable": true,
    "editable": true
   },
   "outputs": [],
   "source": [
    "indruns=[]\n",
    "for i in f2:\n",
    "    indruns.append(list(foreign2[i]))\n",
    "indruns2=[]\n",
    "for i in range(6):\n",
    "    l=[]\n",
    "    for j in indruns:\n",
    "        k=j[i]\n",
    "        l.append(k)\n",
    "    indruns2.append(l)\n",
    "meanindruns=[]\n",
    "for i in indruns2:\n",
    "    meanindruns.append(np.mean(i))  "
   ]
  },
  {
   "cell_type": "code",
   "execution_count": 97,
   "metadata": {
    "collapsed": true,
    "deletable": true,
    "editable": true
   },
   "outputs": [],
   "source": [
    "#getting std dev\n",
    "stdoverruns=[]\n",
    "stdindruns=[]\n",
    "for i in overruns2:\n",
    "    stdoverruns.append(np.std(i))\n",
    "for i in indruns2:\n",
    "    stdindruns.append(np.std(i))"
   ]
  },
  {
   "cell_type": "code",
   "execution_count": 100,
   "metadata": {
    "collapsed": true,
    "deletable": true,
    "editable": true
   },
   "outputs": [],
   "source": [
    "stat2=[]\n",
    "for i in range(6):\n",
    "    denom=((((stdindruns[i])**2)/7)+(((stdoverruns[i])**2)/6.0))**(0.5)\n",
    "    t=abs(meanoverruns[i]-meanindruns[i])/denom\n",
    "    stat2.append(t)\n",
    "result2=[]\n",
    "for i in stat2:\n",
    "    if(i<1.96):#assuming 0.05 alpha value\n",
    "        result2.append(\"Yes\")\n",
    "    else:\n",
    "        result2.append(\"No\")\n",
    "hypothesis3=pd.DataFrame({\"Years\":yrs,\"did the Indian and foreign cricketers perform relatively the same?\":result2})"
   ]
  },
  {
   "cell_type": "code",
   "execution_count": 99,
   "metadata": {
    "collapsed": false,
    "deletable": true,
    "editable": true
   },
   "outputs": [
    {
     "data": {
      "text/html": [
       "<div>\n",
       "<table border=\"1\" class=\"dataframe\">\n",
       "  <thead>\n",
       "    <tr style=\"text-align: right;\">\n",
       "      <th></th>\n",
       "      <th>Years</th>\n",
       "      <th>did the Indian and foreign cricketers perform relatively the same?</th>\n",
       "    </tr>\n",
       "  </thead>\n",
       "  <tbody>\n",
       "    <tr>\n",
       "      <th>0</th>\n",
       "      <td>2011</td>\n",
       "      <td>Yes</td>\n",
       "    </tr>\n",
       "    <tr>\n",
       "      <th>1</th>\n",
       "      <td>2012</td>\n",
       "      <td>Yes</td>\n",
       "    </tr>\n",
       "    <tr>\n",
       "      <th>2</th>\n",
       "      <td>2013</td>\n",
       "      <td>Yes</td>\n",
       "    </tr>\n",
       "    <tr>\n",
       "      <th>3</th>\n",
       "      <td>2014</td>\n",
       "      <td>Yes</td>\n",
       "    </tr>\n",
       "    <tr>\n",
       "      <th>4</th>\n",
       "      <td>2015</td>\n",
       "      <td>No</td>\n",
       "    </tr>\n",
       "    <tr>\n",
       "      <th>5</th>\n",
       "      <td>2016</td>\n",
       "      <td>Yes</td>\n",
       "    </tr>\n",
       "  </tbody>\n",
       "</table>\n",
       "</div>"
      ],
      "text/plain": [
       "   Years did the Indian and foreign cricketers perform relatively the same?\n",
       "0   2011                                                Yes                \n",
       "1   2012                                                Yes                \n",
       "2   2013                                                Yes                \n",
       "3   2014                                                Yes                \n",
       "4   2015                                                 No                \n",
       "5   2016                                                Yes                "
      ]
     },
     "execution_count": 99,
     "metadata": {},
     "output_type": "execute_result"
    }
   ],
   "source": [
    "hypothesis3"
   ]
  },
  {
   "cell_type": "code",
   "execution_count": 87,
   "metadata": {
    "collapsed": false,
    "deletable": true,
    "editable": true
   },
   "outputs": [
    {
     "data": {
      "text/html": [
       "<div>\n",
       "<table border=\"1\" class=\"dataframe\">\n",
       "  <thead>\n",
       "    <tr style=\"text-align: right;\">\n",
       "      <th></th>\n",
       "      <th>Years</th>\n",
       "      <th>were the foreigner cricketers on an average paid more than their indian counterparts ?</th>\n",
       "    </tr>\n",
       "  </thead>\n",
       "  <tbody>\n",
       "    <tr>\n",
       "      <th>0</th>\n",
       "      <td>2011</td>\n",
       "      <td>Yes</td>\n",
       "    </tr>\n",
       "    <tr>\n",
       "      <th>1</th>\n",
       "      <td>2012</td>\n",
       "      <td>No</td>\n",
       "    </tr>\n",
       "    <tr>\n",
       "      <th>2</th>\n",
       "      <td>2013</td>\n",
       "      <td>No</td>\n",
       "    </tr>\n",
       "    <tr>\n",
       "      <th>3</th>\n",
       "      <td>2014</td>\n",
       "      <td>No</td>\n",
       "    </tr>\n",
       "    <tr>\n",
       "      <th>4</th>\n",
       "      <td>2015</td>\n",
       "      <td>No</td>\n",
       "    </tr>\n",
       "    <tr>\n",
       "      <th>5</th>\n",
       "      <td>2016</td>\n",
       "      <td>No</td>\n",
       "    </tr>\n",
       "  </tbody>\n",
       "</table>\n",
       "</div>"
      ],
      "text/plain": [
       "   Years  \\\n",
       "0   2011   \n",
       "1   2012   \n",
       "2   2013   \n",
       "3   2014   \n",
       "4   2015   \n",
       "5   2016   \n",
       "\n",
       "  were the foreigner cricketers on an average paid more than their indian counterparts ?  \n",
       "0                                                Yes                                      \n",
       "1                                                 No                                      \n",
       "2                                                 No                                      \n",
       "3                                                 No                                      \n",
       "4                                                 No                                      \n",
       "5                                                 No                                      "
      ]
     },
     "execution_count": 87,
     "metadata": {},
     "output_type": "execute_result"
    }
   ],
   "source": [
    "hypothesis2"
   ]
  },
  {
   "cell_type": "code",
   "execution_count": 105,
   "metadata": {
    "collapsed": false,
    "deletable": true,
    "editable": true
   },
   "outputs": [],
   "source": [
    "spinfast=pd.read_csv(\"C:\\Users\\Anirudh Arputham\\Desktop\\my files-iitb\\SEM 2\\AE 102\\Projects\\Fast.csv\")"
   ]
  },
  {
   "cell_type": "code",
   "execution_count": 141,
   "metadata": {
    "collapsed": false,
    "deletable": true,
    "editable": true
   },
   "outputs": [
    {
     "name": "stdout",
     "output_type": "stream",
     "text": [
      "WICKET DISTRIBUTION BY TEAM-2016\n"
     ]
    },
    {
     "data": {
      "text/html": [
       "<div>\n",
       "<table border=\"1\" class=\"dataframe\">\n",
       "  <thead>\n",
       "    <tr style=\"text-align: right;\">\n",
       "      <th></th>\n",
       "      <th>Teams</th>\n",
       "      <th>Wickets by fast bowlers</th>\n",
       "      <th>Wickets by spin bowlers</th>\n",
       "      <th>No of fast bowlers</th>\n",
       "      <th>No of spin bowlers</th>\n",
       "      <th>wicket per fast</th>\n",
       "      <th>wicket per spin</th>\n",
       "    </tr>\n",
       "  </thead>\n",
       "  <tbody>\n",
       "    <tr>\n",
       "      <th>0</th>\n",
       "      <td>DD</td>\n",
       "      <td>38</td>\n",
       "      <td>25</td>\n",
       "      <td>5</td>\n",
       "      <td>6</td>\n",
       "      <td>7.600000</td>\n",
       "      <td>4.166667</td>\n",
       "    </tr>\n",
       "    <tr>\n",
       "      <th>1</th>\n",
       "      <td>GL</td>\n",
       "      <td>46</td>\n",
       "      <td>29</td>\n",
       "      <td>7</td>\n",
       "      <td>7</td>\n",
       "      <td>6.571429</td>\n",
       "      <td>4.142857</td>\n",
       "    </tr>\n",
       "    <tr>\n",
       "      <th>2</th>\n",
       "      <td>KXIP</td>\n",
       "      <td>45</td>\n",
       "      <td>18</td>\n",
       "      <td>7</td>\n",
       "      <td>4</td>\n",
       "      <td>6.428571</td>\n",
       "      <td>4.500000</td>\n",
       "    </tr>\n",
       "    <tr>\n",
       "      <th>3</th>\n",
       "      <td>KKR</td>\n",
       "      <td>42</td>\n",
       "      <td>39</td>\n",
       "      <td>8</td>\n",
       "      <td>7</td>\n",
       "      <td>5.250000</td>\n",
       "      <td>5.571429</td>\n",
       "    </tr>\n",
       "    <tr>\n",
       "      <th>4</th>\n",
       "      <td>MI</td>\n",
       "      <td>47</td>\n",
       "      <td>15</td>\n",
       "      <td>7</td>\n",
       "      <td>3</td>\n",
       "      <td>6.714286</td>\n",
       "      <td>5.000000</td>\n",
       "    </tr>\n",
       "    <tr>\n",
       "      <th>5</th>\n",
       "      <td>RPS</td>\n",
       "      <td>41</td>\n",
       "      <td>29</td>\n",
       "      <td>11</td>\n",
       "      <td>3</td>\n",
       "      <td>3.727273</td>\n",
       "      <td>9.666667</td>\n",
       "    </tr>\n",
       "    <tr>\n",
       "      <th>6</th>\n",
       "      <td>RCB</td>\n",
       "      <td>54</td>\n",
       "      <td>35</td>\n",
       "      <td>9</td>\n",
       "      <td>6</td>\n",
       "      <td>6.000000</td>\n",
       "      <td>5.833333</td>\n",
       "    </tr>\n",
       "    <tr>\n",
       "      <th>7</th>\n",
       "      <td>SRK</td>\n",
       "      <td>81</td>\n",
       "      <td>7</td>\n",
       "      <td>7</td>\n",
       "      <td>4</td>\n",
       "      <td>11.571429</td>\n",
       "      <td>1.750000</td>\n",
       "    </tr>\n",
       "  </tbody>\n",
       "</table>\n",
       "</div>"
      ],
      "text/plain": [
       "  Teams  Wickets by fast bowlers  Wickets by spin bowlers  No of fast bowlers  \\\n",
       "0    DD                       38                       25                   5   \n",
       "1    GL                       46                       29                   7   \n",
       "2  KXIP                       45                       18                   7   \n",
       "3   KKR                       42                       39                   8   \n",
       "4    MI                       47                       15                   7   \n",
       "5   RPS                       41                       29                  11   \n",
       "6   RCB                       54                       35                   9   \n",
       "7   SRK                       81                        7                   7   \n",
       "\n",
       "   No of spin bowlers  wicket per fast  wicket per spin  \n",
       "0                   6         7.600000         4.166667  \n",
       "1                   7         6.571429         4.142857  \n",
       "2                   4         6.428571         4.500000  \n",
       "3                   7         5.250000         5.571429  \n",
       "4                   3         6.714286         5.000000  \n",
       "5                   3         3.727273         9.666667  \n",
       "6                   6         6.000000         5.833333  \n",
       "7                   4        11.571429         1.750000  "
      ]
     },
     "execution_count": 141,
     "metadata": {},
     "output_type": "execute_result"
    }
   ],
   "source": [
    "print(\"WICKET DISTRIBUTION BY TEAM-2016\")\n",
    "spinfast[\"wicket per fast\"]=spinfast[\"Wickets by fast bowlers\"]/spinfast[\"No of fast bowlers\"]\n",
    "spinfast[\"wicket per spin\"]=spinfast[\"Wickets by spin bowlers\"]/spinfast[\"No of spin bowlers\"]\n",
    "spinfast"
   ]
  },
  {
   "cell_type": "code",
   "execution_count": 147,
   "metadata": {
    "collapsed": false,
    "deletable": true,
    "editable": true
   },
   "outputs": [
    {
     "name": "stdout",
     "output_type": "stream",
     "text": [
      "Number of wickets per fast bowlers= 6\n",
      "Number of wickets per spin bowlers= 4\n"
     ]
    }
   ],
   "source": [
    "print(\"Number of wickets per fast bowlers=\",(np.sum(spinfast[\"Wickets by fast bowlers\"])/np.sum(spinfast[\"No of fast bowlers\"])))\n",
    "print(\"Number of wickets per spin bowlers=\",(np.sum(spinfast[\"Wickets by spin bowlers\"])/np.sum(spinfast[\"No of spin bowlers\"])))"
   ]
  },
  {
   "cell_type": "code",
   "execution_count": 126,
   "metadata": {
    "collapsed": true,
    "deletable": true,
    "editable": true
   },
   "outputs": [],
   "source": [
    "manofthematch=pd.read_csv(\"C:\\Users\\Anirudh Arputham\\Desktop\\my files-iitb\\SEM 2\\AE 102\\Projects\\Man.csv\")"
   ]
  },
  {
   "cell_type": "code",
   "execution_count": 127,
   "metadata": {
    "collapsed": false,
    "deletable": true,
    "editable": true
   },
   "outputs": [
    {
     "data": {
      "text/html": [
       "<div>\n",
       "<table border=\"1\" class=\"dataframe\">\n",
       "  <thead>\n",
       "    <tr style=\"text-align: right;\">\n",
       "      <th></th>\n",
       "      <th>Winner</th>\n",
       "      <th>2008</th>\n",
       "      <th>2009</th>\n",
       "      <th>2013</th>\n",
       "      <th>2016</th>\n",
       "    </tr>\n",
       "  </thead>\n",
       "  <tbody>\n",
       "    <tr>\n",
       "      <th>0</th>\n",
       "      <td>Batsman</td>\n",
       "      <td>36</td>\n",
       "      <td>42</td>\n",
       "      <td>58</td>\n",
       "      <td>41</td>\n",
       "    </tr>\n",
       "    <tr>\n",
       "      <th>1</th>\n",
       "      <td>Bowler</td>\n",
       "      <td>23</td>\n",
       "      <td>15</td>\n",
       "      <td>18</td>\n",
       "      <td>19</td>\n",
       "    </tr>\n",
       "    <tr>\n",
       "      <th>2</th>\n",
       "      <td>No result</td>\n",
       "      <td>2</td>\n",
       "      <td>2</td>\n",
       "      <td>1</td>\n",
       "      <td>0</td>\n",
       "    </tr>\n",
       "  </tbody>\n",
       "</table>\n",
       "</div>"
      ],
      "text/plain": [
       "      Winner  2008  2009  2013  2016\n",
       "0    Batsman    36    42    58    41\n",
       "1     Bowler    23    15    18    19\n",
       "2  No result     2     2     1     0"
      ]
     },
     "execution_count": 127,
     "metadata": {},
     "output_type": "execute_result"
    }
   ],
   "source": [
    "manofthematch"
   ]
  },
  {
   "cell_type": "code",
   "execution_count": 133,
   "metadata": {
    "collapsed": false,
    "deletable": true,
    "editable": true
   },
   "outputs": [
    {
     "name": "stdout",
     "output_type": "stream",
     "text": [
      "2008-MAN OF THE MATCH\n"
     ]
    },
    {
     "data": {
      "image/png": "[encoded data removed]",
      "text/plain": [
       "<matplotlib.figure.Figure at 0xa417400>"
      ]
     },
     "metadata": {},
     "output_type": "display_data"
    }
   ],
   "source": [
    "man=manofthematch.T\n",
    "label=[\"Batsmen\",\"Bowler\",\"No result\"]\n",
    "pie(manofthematch[\"2008\"],labels=label,autopct='%1.1f%%')\n",
    "print(\"2008-MAN OF THE MATCH\")"
   ]
  },
  {
   "cell_type": "code",
   "execution_count": 134,
   "metadata": {
    "collapsed": false,
    "deletable": true,
    "editable": true
   },
   "outputs": [
    {
     "name": "stdout",
     "output_type": "stream",
     "text": [
      "2009-MAN OF THE MATCH\n"
     ]
    },
    {
     "data": {
      "image/png": "[encoded data removed]",
      "text/plain": [
       "<matplotlib.figure.Figure at 0xc032320>"
      ]
     },
     "metadata": {},
     "output_type": "display_data"
    }
   ],
   "source": [
    "pie(manofthematch[\"2009\"],labels=label,autopct='%1.1f%%')\n",
    "print(\"2009-MAN OF THE MATCH\")"
   ]
  },
  {
   "cell_type": "code",
   "execution_count": 135,
   "metadata": {
    "collapsed": false,
    "deletable": true,
    "editable": true
   },
   "outputs": [
    {
     "name": "stdout",
     "output_type": "stream",
     "text": [
      "2013-MAN OF THE MATCH\n"
     ]
    },
    {
     "data": {
      "image/png": "[encoded data removed]",
      "text/plain": [
       "<matplotlib.figure.Figure at 0xc4df978>"
      ]
     },
     "metadata": {},
     "output_type": "display_data"
    }
   ],
   "source": [
    "pie(manofthematch[\"2013\"],labels=label,autopct='%1.1f%%')\n",
    "print(\"2013-MAN OF THE MATCH\")"
   ]
  },
  {
   "cell_type": "code",
   "execution_count": 136,
   "metadata": {
    "collapsed": false,
    "deletable": true,
    "editable": true
   },
   "outputs": [
    {
     "name": "stdout",
     "output_type": "stream",
     "text": [
      "2016-MAN OF THE MATCH\n"
     ]
    },
    {
     "data": {
      "image/png": "[encoded data removed]",
      "text/plain": [
       "<matplotlib.figure.Figure at 0xc547160>"
      ]
     },
     "metadata": {},
     "output_type": "display_data"
    }
   ],
   "source": [
    "pie(manofthematch[\"2016\"],labels=label,autopct='%1.1f%%')\n",
    "print(\"2016-MAN OF THE MATCH\")"
   ]
  },
  {
   "cell_type": "markdown",
   "metadata": {
    "deletable": true,
    "editable": true
   },
   "source": [
    "\n",
    "# 2. Team Analysis"
   ]
  },
  {
   "cell_type": "code",
   "execution_count": 137,
   "metadata": {
    "collapsed": false,
    "deletable": true,
    "editable": true
   },
   "outputs": [],
   "source": [
    "sixes=pd.read_csv(\"C:\\Users\\Anirudh Arputham\\Desktop\\my files-iitb\\SEM 2\\AE 102\\Projects\\Entertain.csv\")"
   ]
  },
  {
   "cell_type": "code",
   "execution_count": 96,
   "metadata": {
    "collapsed": false,
    "deletable": true,
    "editable": true
   },
   "outputs": [
    {
     "data": {
      "text/plain": [
       "<matplotlib.legend.Legend at 0xe1aebe0>"
      ]
     },
     "execution_count": 96,
     "metadata": {},
     "output_type": "execute_result"
    },
    {
     "data": {
      "image/png": "[encoded data removed]",
      "text/plain": [
       "<matplotlib.figure.Figure at 0xe0f82b0>"
      ]
     },
     "metadata": {},
     "output_type": "display_data"
    }
   ],
   "source": [
    "plt.xticks(sixes[\"Team\"].index,teams)\n",
    "plt.bar(sixes[\"Team\"].index,sixes[\"Sixes-2016\"])\n",
    "plt.legend(['2016'])"
   ]
  },
  {
   "cell_type": "code",
   "execution_count": 97,
   "metadata": {
    "collapsed": false,
    "deletable": true,
    "editable": true
   },
   "outputs": [
    {
     "data": {
      "text/plain": [
       "<matplotlib.legend.Legend at 0xe3cae48>"
      ]
     },
     "execution_count": 97,
     "metadata": {},
     "output_type": "execute_result"
    },
    {
     "data": {
      "image/png": "[encoded data removed]",
      "text/plain": [
       "<matplotlib.figure.Figure at 0xe151390>"
      ]
     },
     "metadata": {},
     "output_type": "display_data"
    }
   ],
   "source": [
    "plt.xticks(sixes[\"Team\"].index,teams)\n",
    "plt.bar(sixes[\"Team\"].index,sixes[\"Sixes-2015\"])\n",
    "plt.legend(['2015'])"
   ]
  },
  {
   "cell_type": "code",
   "execution_count": 98,
   "metadata": {
    "collapsed": false,
    "deletable": true,
    "editable": true
   },
   "outputs": [
    {
     "data": {
      "text/plain": [
       "<matplotlib.legend.Legend at 0xe6f4390>"
      ]
     },
     "execution_count": 98,
     "metadata": {},
     "output_type": "execute_result"
    },
    {
     "data": {
      "image/png": "[encoded data removed]",
      "text/plain": [
       "<matplotlib.figure.Figure at 0xe45c3c8>"
      ]
     },
     "metadata": {},
     "output_type": "display_data"
    }
   ],
   "source": [
    "plt.xticks(sixes[\"Team\"].index,teams)\n",
    "plt.bar(sixes[\"Team\"].index,sixes[\"Sixes-2014\"])\n",
    "plt.legend(['2014'],loc='upper left')"
   ]
  },
  {
   "cell_type": "code",
   "execution_count": null,
   "metadata": {
    "collapsed": true,
    "deletable": true,
    "editable": true
   },
   "outputs": [],
   "source": []
  }
 ],
 "metadata": {
  "kernelspec": {
   "display_name": "Python 2",
   "language": "python",
   "name": "python2"
  },
  "language_info": {
   "codemirror_mode": {
    "name": "ipython",
    "version": 2
   },
   "file_extension": ".py",
   "mimetype": "text/x-python",
   "name": "python",
   "nbconvert_exporter": "python",
   "pygments_lexer": "ipython2",
   "version": "2.7.13"
  }
 },
 "nbformat": 4,
 "nbformat_minor": 0
}
